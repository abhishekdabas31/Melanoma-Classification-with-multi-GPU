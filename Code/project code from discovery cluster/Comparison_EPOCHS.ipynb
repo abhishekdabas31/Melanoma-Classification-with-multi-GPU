{
 "cells": [
  {
   "cell_type": "code",
   "execution_count": 3,
   "metadata": {},
   "outputs": [],
   "source": [
    "## Imports\n",
    "import numpy as np\n",
    "import pandas as pd\n",
    "import matplotlib.pyplot as plt"
   ]
  },
  {
   "cell_type": "code",
   "execution_count": 26,
   "metadata": {},
   "outputs": [
    {
     "data": {
      "text/html": [
       "<div>\n",
       "<style scoped>\n",
       "    .dataframe tbody tr th:only-of-type {\n",
       "        vertical-align: middle;\n",
       "    }\n",
       "\n",
       "    .dataframe tbody tr th {\n",
       "        vertical-align: top;\n",
       "    }\n",
       "\n",
       "    .dataframe thead th {\n",
       "        text-align: right;\n",
       "    }\n",
       "</style>\n",
       "<table border=\"1\" class=\"dataframe\">\n",
       "  <thead>\n",
       "    <tr style=\"text-align: right;\">\n",
       "      <th></th>\n",
       "      <th>Epochs</th>\n",
       "      <th>Time</th>\n",
       "    </tr>\n",
       "  </thead>\n",
       "  <tbody>\n",
       "    <tr>\n",
       "      <td>0</td>\n",
       "      <td>1</td>\n",
       "      <td>1491.024518</td>\n",
       "    </tr>\n",
       "    <tr>\n",
       "      <td>1</td>\n",
       "      <td>2</td>\n",
       "      <td>645.783936</td>\n",
       "    </tr>\n",
       "    <tr>\n",
       "      <td>2</td>\n",
       "      <td>3</td>\n",
       "      <td>557.903184</td>\n",
       "    </tr>\n",
       "    <tr>\n",
       "      <td>3</td>\n",
       "      <td>4</td>\n",
       "      <td>653.461945</td>\n",
       "    </tr>\n",
       "    <tr>\n",
       "      <td>4</td>\n",
       "      <td>5</td>\n",
       "      <td>914.128271</td>\n",
       "    </tr>\n",
       "    <tr>\n",
       "      <td>5</td>\n",
       "      <td>6</td>\n",
       "      <td>812.888703</td>\n",
       "    </tr>\n",
       "    <tr>\n",
       "      <td>6</td>\n",
       "      <td>7</td>\n",
       "      <td>650.600266</td>\n",
       "    </tr>\n",
       "    <tr>\n",
       "      <td>7</td>\n",
       "      <td>8</td>\n",
       "      <td>890.594432</td>\n",
       "    </tr>\n",
       "    <tr>\n",
       "      <td>8</td>\n",
       "      <td>9</td>\n",
       "      <td>710.434675</td>\n",
       "    </tr>\n",
       "    <tr>\n",
       "      <td>9</td>\n",
       "      <td>10</td>\n",
       "      <td>674.080979</td>\n",
       "    </tr>\n",
       "    <tr>\n",
       "      <td>10</td>\n",
       "      <td>11</td>\n",
       "      <td>677.777831</td>\n",
       "    </tr>\n",
       "    <tr>\n",
       "      <td>11</td>\n",
       "      <td>12</td>\n",
       "      <td>705.191599</td>\n",
       "    </tr>\n",
       "    <tr>\n",
       "      <td>12</td>\n",
       "      <td>13</td>\n",
       "      <td>913.281065</td>\n",
       "    </tr>\n",
       "    <tr>\n",
       "      <td>13</td>\n",
       "      <td>14</td>\n",
       "      <td>1283.336890</td>\n",
       "    </tr>\n",
       "    <tr>\n",
       "      <td>14</td>\n",
       "      <td>15</td>\n",
       "      <td>1332.188257</td>\n",
       "    </tr>\n",
       "    <tr>\n",
       "      <td>15</td>\n",
       "      <td>16</td>\n",
       "      <td>1191.308338</td>\n",
       "    </tr>\n",
       "    <tr>\n",
       "      <td>16</td>\n",
       "      <td>17</td>\n",
       "      <td>1389.215369</td>\n",
       "    </tr>\n",
       "    <tr>\n",
       "      <td>17</td>\n",
       "      <td>18</td>\n",
       "      <td>1396.832502</td>\n",
       "    </tr>\n",
       "    <tr>\n",
       "      <td>18</td>\n",
       "      <td>19</td>\n",
       "      <td>1285.619573</td>\n",
       "    </tr>\n",
       "    <tr>\n",
       "      <td>19</td>\n",
       "      <td>20</td>\n",
       "      <td>1308.219038</td>\n",
       "    </tr>\n",
       "  </tbody>\n",
       "</table>\n",
       "</div>"
      ],
      "text/plain": [
       "    Epochs         Time\n",
       "0        1  1491.024518\n",
       "1        2   645.783936\n",
       "2        3   557.903184\n",
       "3        4   653.461945\n",
       "4        5   914.128271\n",
       "5        6   812.888703\n",
       "6        7   650.600266\n",
       "7        8   890.594432\n",
       "8        9   710.434675\n",
       "9       10   674.080979\n",
       "10      11   677.777831\n",
       "11      12   705.191599\n",
       "12      13   913.281065\n",
       "13      14  1283.336890\n",
       "14      15  1332.188257\n",
       "15      16  1191.308338\n",
       "16      17  1389.215369\n",
       "17      18  1396.832502\n",
       "18      19  1285.619573\n",
       "19      20  1308.219038"
      ]
     },
     "execution_count": 26,
     "metadata": {},
     "output_type": "execute_result"
    }
   ],
   "source": [
    "df = pd.read_csv(\"gpu4/plot_time.csv\", header=None)\n",
    "df.columns = [\"Epochs\", \"Time\"]\n",
    "df[\"Epochs\"] +=1\n",
    "df"
   ]
  },
  {
   "cell_type": "code",
   "execution_count": 30,
   "metadata": {},
   "outputs": [
    {
     "name": "stdout",
     "output_type": "stream",
     "text": [
      "df_1\n",
      "   Epochs         Time\n",
      "0       1  1491.024518\n",
      "1       2   645.783936\n",
      "2       3   557.903184\n",
      "3       4   653.461945\n",
      "4       5   914.128271\n",
      "5       6   812.888703\n",
      "6       7   650.600266\n",
      "7       8   890.594432\n",
      "8       9   710.434675\n",
      "9      10   674.080979\n",
      "800.0900908946991\n",
      "df_2\n",
      "    Epochs         Time\n",
      "0        1  1491.024518\n",
      "1        2   645.783936\n",
      "2        3   557.903184\n",
      "3        4   653.461945\n",
      "4        5   914.128271\n",
      "5        6   812.888703\n",
      "6        7   650.600266\n",
      "7        8   890.594432\n",
      "8        9   710.434675\n",
      "9       10   674.080979\n",
      "10      11   677.777831\n",
      "11      12   705.191599\n",
      "12      13   913.281065\n",
      "13      14  1283.336890\n",
      "14      15  1332.188257\n",
      "15      16  1191.308338\n",
      "16      17  1389.215369\n",
      "17      18  1396.832502\n",
      "18      19  1285.619573\n",
      "19      20  1308.219038\n",
      "974.1935685634613\n"
     ]
    }
   ],
   "source": [
    "df_1 = df.head(10)\n",
    "print(\"df_1\")\n",
    "print(df_1)\n",
    "print(df_1.Time.mean())\n",
    "df_2 = df\n",
    "print(\"df_2\")\n",
    "print(df_2)\n",
    "print(df_2.Time.mean())"
   ]
  },
  {
   "cell_type": "markdown",
   "metadata": {},
   "source": [
    "# Time"
   ]
  },
  {
   "cell_type": "code",
   "execution_count": 43,
   "metadata": {},
   "outputs": [
    {
     "data": {
      "image/png": "[encoded data removed]",
      "text/plain": [
       "<Figure size 432x288 with 1 Axes>"
      ]
     },
     "metadata": {
      "needs_background": "light"
     },
     "output_type": "display_data"
    }
   ],
   "source": [
    "dict_time = {\"10\": 800.0900908946991 ,\n",
    "         \"20\" : 974.1935685634613}\n",
    "\n",
    "plt.plot(*zip(*sorted(dict_time.items())), '--bo')\n",
    "plt.title(\"Time VS Epochs\")\n",
    "plt.xlabel(\"Epochs\")\n",
    "plt.ylabel(\"Time(sec)\")\n",
    "plt.show()"
   ]
  },
  {
   "cell_type": "markdown",
   "metadata": {},
   "source": [
    "# Accuracy"
   ]
  },
  {
   "cell_type": "code",
   "execution_count": 44,
   "metadata": {},
   "outputs": [
    {
     "data": {
      "image/png": "[encoded data removed]",
      "text/plain": [
       "<Figure size 432x288 with 1 Axes>"
      ]
     },
     "metadata": {
      "needs_background": "light"
     },
     "output_type": "display_data"
    }
   ],
   "source": [
    "dict_acc = {\"10\": 83.01 ,\n",
    "         \"20\" : 84.64}\n",
    "\n",
    "plt.plot(*zip(*sorted(dict_acc.items())), '--bo')\n",
    "plt.title(\"Accuracy VS Epochs\")\n",
    "plt.xlabel(\"Epochs\")\n",
    "plt.ylabel(\"Accuracy(%)\")\n",
    "plt.show()"
   ]
  },
  {
   "cell_type": "code",
   "execution_count": 47,
   "metadata": {},
   "outputs": [
    {
     "data": {
      "image/png": "[encoded data removed]",
      "text/plain": [
       "<Figure size 432x288 with 1 Axes>"
      ]
     },
     "metadata": {
      "needs_background": "light"
     },
     "output_type": "display_data"
    }
   ],
   "source": [
    "dict_loss = {\"10\": 0.07805 ,\n",
    "             \"20\" : 0.07341}\n",
    "\n",
    "plt.plot(*zip(*sorted(dict_loss.items())), '--bo')\n",
    "plt.title(\"Loss VS Epochs\")\n",
    "plt.xlabel(\"Epochs\")\n",
    "plt.ylabel(\"Loss\")\n",
    "plt.show()"
   ]
  }
 ],
 "metadata": {
  "kernelspec": {
   "display_name": "Python 3",
   "language": "python",
   "name": "python3"
  },
  "language_info": {
   "codemirror_mode": {
    "name": "ipython",
    "version": 3
   },
   "file_extension": ".py",
   "mimetype": "text/x-python",
   "name": "python",
   "nbconvert_exporter": "python",
   "pygments_lexer": "ipython3",
   "version": "3.7.4"
  }
 },
 "nbformat": 4,
 "nbformat_minor": 2
}
